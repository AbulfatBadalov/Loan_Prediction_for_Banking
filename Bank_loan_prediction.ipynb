{
  "nbformat": 4,
  "nbformat_minor": 0,
  "metadata": {
    "colab": {
      "provenance": []
    },
    "kernelspec": {
      "name": "python3",
      "display_name": "Python 3"
    },
    "language_info": {
      "name": "python"
    }
  },
  "cells": [
    {
      "cell_type": "code",
      "source": [
        "# Gerekli kütüphaneleri içe aktar\n",
        "import pandas as pd\n",
        "from sklearn.model_selection import train_test_split\n",
        "from sklearn.tree import DecisionTreeClassifier\n",
        "from sklearn.metrics import confusion_matrix, classification_report, roc_curve, roc_auc_score, accuracy_score\n",
        "import matplotlib.pyplot as plt\n",
        "from sklearn import tree\n",
        "\n",
        "# Excel dosyasını oku, 'Data' adlı sayfayı kullan\n",
        "data = pd.read_excel('Bank_Personal_Loan_Modelling.xlsx', sheet_name='Data')\n",
        "\n",
        "data.shape\n",
        "#Eksik veriler\n",
        "data.isnull().sum()\n",
        "# 2. Gereksiz sütunları at (ID ve ZIP Code)\n",
        "data.drop(columns=['ID','ZIP Code'],inplace=True)\n",
        "#Eksik verileri yeniden kontrol\n",
        "data.isnull().sum()\n",
        "data['CreditCard'].value_counts()",
        from imblearn.over_sampling import SMOTE
        from sklearn.model_selection import train_test_split

        # 1. Özellikler (X) ve hedef (y) ayrılır
        X = data.drop('CreditCard', axis=1)
        y = data['CreditCard']

        # 2. Eğitim/test ayrımı yapılır (SMOTE sadece eğitim verisine uygulanır!)
          X_train, X_test, y_train, y_test = train_test_split(X, y, test_size=0.2, random_state=42)

          # 3. SMOTE uygulanır
              smote = SMOTE(random_state=42)
             X_train_resampled, y_train_resampled = smote.fit_resample(X_train, y_train)

            # 4. Yeni sınıf dağılımı
            print("Önce:", y_train.value_counts())
            print("Sonra (SMOTE sonrası):", y_train_resampled.value_counts())


        "#Kategorik verileri one-hot-encoding ile dondurme\n",
        "data=pd.get_dummies(data,columns=['Education','Family'],drop_first=True)\n",
        "# İlk 5 satırı görüntüle (kontrol amaçlı)\n",
        "data.head(5)\n",
        "\n",
        "# Bağımsız değişkenleri (özellikler) ve hedef değişkeni ayır\n",
        "X = data.drop('Personal Loan', axis=1)  # Hedef sütunu dışarıda bırak\n",
        "y = data['Personal Loan']               # Hedef sütunu seç\n",
        "\n",
        "# Veriyi eğitim ve test olarak ayır (80% eğitim, 20% test)\n",
        "X_train, X_test, y_train, y_test = train_test_split(X, y, test_size=0.2, random_state=42)\n",
        "\n",
        "# Karar ağacı sınıflandırıcısı oluştur\n",
        "dt_model = DecisionTreeClassifier()\n",
        "\n",
        "# Modeli eğitim verisiyle eğit\n",
        "dt_model.fit(X_train, y_train)\n",
        "\n",
        "# Test verisi ile tahmin yap\n",
        "y_pred = dt_model.predict(X_test)\n",
        "\n",
        "# Karışıklık matrisi hesapla ve yazdır\n",
        "conf_matrix = confusion_matrix(y_test, y_pred)\n",
        "print(\"Confusion Matrix:\")\n",
        "print(conf_matrix)\n",
        "\n",
        "# Sınıflandırma raporunu yazdır (doğruluk, kesinlik, F1 skoru vs.)\n",
        "class_report = classification_report(y_test, y_pred)\n",
        "print(\"\\nClassification Report:\")\n",
        "print(class_report)\n",
        "\n",
        "# ROC eğrisi ve AUC skoru hesapla\n",
        "y_prob = dt_model.predict_proba(X_test)[:, 1]  # Pozitif sınıfın olasılığı\n",
        "fpr, tpr, thresholds = roc_curve(y_test, y_prob)  # ROC eğrisi için değerler\n",
        "auc_score = roc_auc_score(y_test, y_prob)        # AUC skoru\n",
        "\n",
        "# ROC eğrisini çiz\n",
        "plt.figure()\n",
        "plt.plot(fpr, tpr, color='blue', label='ROC curve (area = %0.2f)' % auc_score)\n",
        "plt.plot([0, 1], [0, 1], color='red', linestyle='--')  # Y = X doğrusu\n",
        "plt.xlabel('False Positive Rate')  # X ekseni etiketi\n",
        "plt.ylabel('True Positive Rate')   # Y ekseni etiketi\n",
        "plt.title('ROC Curve')             # Grafik başlığı\n",
        "plt.legend(loc=\"lower right\")      # Lejant konumu\n",
        "plt.show()\n",
        "\n",
        "# Farklı eğitim-test oranları ile modelin doğruluğunu test et\n",
        "split_ratios = [(0.6, 0.4), (0.5, 0.5), (0.7, 0.3), (0.8, 0.2), (0.9, 0.1), (0.95, 0.05)]\n",
        "\n",
        "# Her bir oran için eğitim ve test doğruluklarını karşılaştır\n",
        "for train_ratio, test_ratio in split_ratios:\n",
        "    # Veriyi belirlenen oranlarda ayır\n",
        "    X_train, X_test, y_train, y_test = train_test_split(X, y, train_size=train_ratio, test_size=test_ratio, random_state=42)\n",
        "\n",
        "    # Modeli yeniden eğit\n",
        "    dt_model.fit(X_train, y_train)\n",
        "\n",
        "    # Eğitim ve test seti tahminleri\n",
        "    y_train_pred = dt_model.predict(X_train)\n",
        "    y_test_pred = dt_model.predict(X_test)\n",
        "\n",
        "    # Doğruluk skorlarını hesapla\n",
        "    train_accuracy = accuracy_score(y_train, y_train_pred)\n",
        "    test_accuracy = accuracy_score(y_test, y_test_pred)\n",
        "\n",
        "    # Sonuçları yazdır\n",
        "    print(f\"Train-Test Split: {train_ratio}-{test_ratio}\")\n",
        "    print(f\"Training Accuracy: {train_accuracy}\")\n",
        "    print(f\"Testing Accuracy: {test_accuracy}\")\n",
        "    print(\"\\n\")"
      ],

}
